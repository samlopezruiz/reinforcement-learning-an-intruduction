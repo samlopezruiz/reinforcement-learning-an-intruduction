{
 "cells": [
  {
   "cell_type": "code",
   "execution_count": 2,
   "outputs": [],
   "source": [
    "%load_ext autoreload\n",
    "%autoreload 2"
   ],
   "metadata": {
    "collapsed": false,
    "ExecuteTime": {
     "end_time": "2023-09-06T02:57:30.037049700Z",
     "start_time": "2023-09-06T02:57:29.482204200Z"
    }
   }
  },
  {
   "cell_type": "code",
   "source": [
    "import gymnasium as gym\n",
    "import matplotlib\n",
    "import windy\n",
    "from sarsa import sarsa\n",
    "from utils import run_episode\n",
    "from plot import plot_windy_results, plot_2d_animated_heatmap\n",
    "from mc import monte_carlo_control_eps_soft\n",
    "import plotly.express as px\n",
    "import numpy as np\n",
    "import pandas as pd\n",
    "from compiled.utils import q_to_2d_v\n",
    "matplotlib.rcParams['figure.figsize'] = [8, 8]"
   ],
   "outputs": [],
   "execution_count": 3,
   "metadata": {
    "collapsed": false,
    "pycharm": {
     "name": "#%%\n",
     "is_executing": false
    },
    "ExecuteTime": {
     "end_time": "2023-09-06T02:57:30.931762100Z",
     "start_time": "2023-09-06T02:57:30.039049700Z"
    }
   }
  },
  {
   "cell_type": "code",
   "source": [
    "env = gym.make('WindyGridworld-v0', king=True)"
   ],
   "outputs": [],
   "execution_count": 4,
   "metadata": {
    "collapsed": false,
    "pycharm": {
     "name": "#%%\n",
     "is_executing": false
    },
    "ExecuteTime": {
     "end_time": "2023-09-06T02:57:31.012029200Z",
     "start_time": "2023-09-06T02:57:30.933761600Z"
    }
   }
  },
  {
   "cell_type": "code",
   "execution_count": 5,
   "outputs": [
    {
     "name": "stderr",
     "output_type": "stream",
     "text": [
      "  0%|          | 0/500 [00:00<?, ?it/s]C:\\Users\\sam24\\.conda\\envs\\rl\\lib\\site-packages\\gymnasium\\utils\\passive_env_checker.py:218: UserWarning:\n",
      "\n",
      "\u001B[33mWARN: The result returned by `env.reset()` was not a tuple of the form `(obs, info)`, where `obs` is a observation and `info` is a dictionary containing additional information. Actual type: `<class 'numpy.ndarray'>`\u001B[0m\n",
      "\n",
      "Min return: -24: 100%|██████████| 500/500 [00:17<00:00, 28.00it/s] \n",
      "100%|██████████| 500/500 [00:01<00:00, 459.62it/s]\n"
     ]
    }
   ],
   "source": [
    "q_mc, policy_mc, history_mc = monte_carlo_control_eps_soft(env, 500, eps=0.5, alpha=None, gamma=0.9, return_history=True)\n",
    "q_sarsa, policy_sarsa, history_sarsa = sarsa(env, 500, eps0=0.5, alpha=0.5, gamma=0.9, return_history=True)\n",
    "\n",
    "n_steps_df = pd.DataFrame([[np.log(len(h)) for h in history_sarsa['rewards']],\n",
    "                           [np.log(len(h)) for h in history_mc['rewards']]], index=['sarsa n steps', 'mc n steps']).T\n",
    "n_steps_df = (n_steps_df\n",
    "              .assign(**{'sarsa mean n steps': lambda df: df['sarsa n steps'].rolling(10, min_periods=1).mean()})\n",
    "              .assign(**{'mc mean n steps': lambda df: df['mc n steps'].rolling(10, min_periods=1).mean()}))\n",
    "\n",
    "fig = px.line(n_steps_df, color_discrete_sequence=['gray', 'gray', 'blue', 'yellow'])\n",
    "fig.update_layout(xaxis_title='episode', yaxis_title='log(n of steps)', showlegend=True)"
   ],
   "metadata": {
    "collapsed": false,
    "ExecuteTime": {
     "end_time": "2023-09-06T02:57:50.505273300Z",
     "start_time": "2023-09-06T02:57:31.016332100Z"
    }
   }
  },
  {
   "cell_type": "code",
   "execution_count": 6,
   "outputs": [],
   "source": [
    "def plot_sarsa_runs(var_name, values, sarsa_kwargs):\n",
    "    history = [sarsa(**(sarsa_kwargs | dict({var_name: v, 'return_history': True})))[2] for v in values]\n",
    "    n_steps_df = pd.DataFrame([[np.log(len(h)) for h in history_sarsa['rewards']] for history_sarsa in history],\n",
    "                              index=['sarsa {}={:.2f}'.format(var_name, v) for v in values]).T\n",
    "    n_steps_df = n_steps_df.rolling(10, axis=0, min_periods=1).mean()\n",
    "\n",
    "    fig = px.line(n_steps_df)\n",
    "    fig.update_layout(xaxis_title='episode', yaxis_title='log(n of steps)', showlegend=True)\n",
    "    fig.show()"
   ],
   "metadata": {
    "collapsed": false,
    "ExecuteTime": {
     "end_time": "2023-09-06T02:57:50.569551900Z",
     "start_time": "2023-09-06T02:57:50.468707200Z"
    }
   }
  },
  {
   "cell_type": "code",
   "execution_count": 7,
   "outputs": [
    {
     "name": "stderr",
     "output_type": "stream",
     "text": [
      "100%|██████████| 500/500 [00:01<00:00, 271.04it/s]\n",
      "100%|██████████| 500/500 [00:01<00:00, 350.44it/s]\n",
      "100%|██████████| 500/500 [00:01<00:00, 388.44it/s]\n",
      "100%|██████████| 500/500 [00:01<00:00, 301.80it/s]\n",
      "100%|██████████| 500/500 [00:01<00:00, 324.37it/s]\n"
     ]
    }
   ],
   "source": [
    "kwargs = dict(env=env, num_episodes=500, eps0=0.5, alpha=0.5, gamma=0.9, return_history=True, decaying_eps=True)\n",
    "\n",
    "var_name = 'gamma'\n",
    "values = np.arange(0.2, 1.2, step=0.2)\n",
    "plot_sarsa_runs(var_name, values, kwargs)"
   ],
   "metadata": {
    "collapsed": false,
    "ExecuteTime": {
     "end_time": "2023-09-06T02:57:58.685996Z",
     "start_time": "2023-09-06T02:57:50.570551900Z"
    }
   }
  },
  {
   "cell_type": "code",
   "execution_count": 8,
   "outputs": [
    {
     "name": "stderr",
     "output_type": "stream",
     "text": [
      "100%|██████████| 500/500 [00:02<00:00, 183.15it/s]\n",
      "100%|██████████| 500/500 [00:01<00:00, 286.51it/s]\n",
      "100%|██████████| 500/500 [00:01<00:00, 373.07it/s]\n",
      "100%|██████████| 500/500 [00:01<00:00, 459.48it/s]\n",
      "100%|██████████| 500/500 [00:01<00:00, 452.93it/s]\n"
     ]
    }
   ],
   "source": [
    "kwargs = dict(env=env, num_episodes=500, eps0=0.5, alpha=0.5, gamma=0.9, return_history=True, decaying_eps=True)\n",
    "\n",
    "var_name = 'alpha'\n",
    "values = np.arange(0.2, 1.2, step=0.2)\n",
    "plot_sarsa_runs(var_name, values, kwargs)"
   ],
   "metadata": {
    "collapsed": false,
    "ExecuteTime": {
     "end_time": "2023-09-06T02:58:07.094491100Z",
     "start_time": "2023-09-06T02:57:58.691520500Z"
    }
   }
  },
  {
   "cell_type": "code",
   "execution_count": 14,
   "outputs": [
    {
     "name": "stderr",
     "output_type": "stream",
     "text": [
      "100%|██████████| 500/500 [00:01<00:00, 467.48it/s]\n",
      "100%|██████████| 500/500 [00:01<00:00, 386.60it/s]\n"
     ]
    }
   ],
   "source": [
    "kwargs = dict(env=env, num_episodes=500, eps0=0.05, alpha=0.5, gamma=0.9, return_history=True, decaying_eps=True)\n",
    "\n",
    "var_name = 'decaying_eps'\n",
    "values = [True, False]\n",
    "plot_sarsa_runs(var_name, values, kwargs)"
   ],
   "metadata": {
    "collapsed": false,
    "ExecuteTime": {
     "end_time": "2023-09-06T02:59:14.841784600Z",
     "start_time": "2023-09-06T02:59:12.128620400Z"
    }
   }
  },
  {
   "cell_type": "code",
   "execution_count": 10,
   "outputs": [
    {
     "name": "stderr",
     "output_type": "stream",
     "text": [
      "100%|██████████| 500/500 [00:01<00:00, 324.48it/s]\n",
      "100%|██████████| 500/500 [00:01<00:00, 288.34it/s]\n",
      "100%|██████████| 500/500 [00:01<00:00, 257.56it/s]\n",
      "100%|██████████| 500/500 [00:01<00:00, 259.45it/s]\n",
      "100%|██████████| 500/500 [00:02<00:00, 219.38it/s]\n"
     ]
    }
   ],
   "source": [
    "kwargs = dict(env=env, num_episodes=500, eps0=0.5, alpha=0.5, gamma=0.9, return_history=True, decaying_eps=False)\n",
    "\n",
    "var_name = 'eps0'\n",
    "values = np.arange(0.05, 0.3, step=0.05)\n",
    "plot_sarsa_runs(var_name, values, kwargs)"
   ],
   "metadata": {
    "collapsed": false,
    "ExecuteTime": {
     "end_time": "2023-09-06T02:58:22.890081900Z",
     "start_time": "2023-09-06T02:58:13.137441500Z"
    }
   }
  },
  {
   "cell_type": "code",
   "execution_count": 17,
   "outputs": [
    {
     "data": {
      "text/plain": "<Figure size 800x800 with 1 Axes>",
      "image/png": "[encoded data removed]"
     },
     "metadata": {},
     "output_type": "display_data"
    },
    {
     "name": "stdout",
     "output_type": "stream",
     "text": [
      "Episode length = 14\n"
     ]
    },
    {
     "data": {
      "text/plain": "<Figure size 800x800 with 1 Axes>",
      "image/png": "[encoded data removed]"
     },
     "metadata": {},
     "output_type": "display_data"
    },
    {
     "name": "stdout",
     "output_type": "stream",
     "text": [
      "Episode length = 7\n"
     ]
    }
   ],
   "source": [
    "rewards = run_episode(env, policy_mc, render=True)\n",
    "print(f\"Episode length = {len(rewards[2])}\")\n",
    "rewards = run_episode(env, policy_sarsa, render=True)\n",
    "print(f\"Episode length = {len(rewards[2])}\")"
   ],
   "metadata": {
    "collapsed": false,
    "ExecuteTime": {
     "end_time": "2023-09-06T03:00:04.884780Z",
     "start_time": "2023-09-06T03:00:04.475369100Z"
    }
   }
  },
  {
   "cell_type": "code",
   "execution_count": 13,
   "outputs": [],
   "source": [],
   "metadata": {
    "collapsed": false,
    "ExecuteTime": {
     "end_time": "2023-09-06T02:58:24.081334700Z",
     "start_time": "2023-09-06T02:58:23.978698900Z"
    }
   }
  }
 ],
 "metadata": {
  "language_info": {
   "name": "python",
   "version": "3.7.4",
   "mimetype": "text/x-python",
   "codemirror_mode": {
    "name": "ipython",
    "version": 3
   },
   "pygments_lexer": "ipython3",
   "nbconvert_exporter": "python",
   "file_extension": ".py"
  },
  "kernelspec": {
   "name": "python3",
   "language": "python",
   "display_name": "Python 3"
  },
  "pycharm": {
   "stem_cell": {
    "cell_type": "raw",
    "source": [],
    "metadata": {
     "collapsed": false
    }
   }
  },
  "kernel_info": {
   "name": "python3"
  },
  "nteract": {
   "version": "0.14.5"
  }
 },
 "nbformat": 4,
 "nbformat_minor": 0
}
