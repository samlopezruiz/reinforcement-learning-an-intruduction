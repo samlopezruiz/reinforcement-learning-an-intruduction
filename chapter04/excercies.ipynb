{
 "cells": [
  {
   "cell_type": "code",
   "execution_count": 192,
   "outputs": [
    {
     "name": "stdout",
     "output_type": "stream",
     "text": [
      "The autoreload extension is already loaded. To reload it, use:\n",
      "  %reload_ext autoreload\n"
     ]
    }
   ],
   "source": [
    "%load_ext autoreload\n",
    "%autoreload 2\n",
    "import pandas as pd\n",
    "import numpy as np\n",
    "from chapter04.plot import plot_animated_mesh\n",
    "from mdp import policy_iteration\n",
    "from rental import JacksCarRental, NonlinearJacksCarRental\n",
    "import plotly.express as px"
   ],
   "metadata": {
    "collapsed": false,
    "ExecuteTime": {
     "start_time": "2023-05-17T08:16:25.740534Z",
     "end_time": "2023-05-17T08:16:25.831501Z"
    }
   }
  },
  {
   "cell_type": "code",
   "execution_count": 194,
   "outputs": [],
   "source": [
    "mdp = JacksCarRental()\n",
    "\n",
    "days = 365\n",
    "rewards = np.zeros(days, dtype=int)\n",
    "actions = np.zeros(days, dtype=int)\n",
    "states = np.zeros([days, len(mdp.observation_space.nvec)], dtype=int)\n",
    "\n",
    "mdp.reset()\n",
    "for day in range(days):\n",
    "    action = mdp.action_space.sample()\n",
    "    state, reward, done, info = mdp.step(action)\n",
    "    rewards[day] = reward\n",
    "    actions[day] = action\n",
    "    states[day] = state"
   ],
   "metadata": {
    "collapsed": false,
    "ExecuteTime": {
     "start_time": "2023-05-17T08:16:25.912712Z",
     "end_time": "2023-05-17T08:16:26.632100Z"
    }
   }
  },
  {
   "cell_type": "code",
   "execution_count": 195,
   "outputs": [],
   "source": [
    "states_df = pd.DataFrame(states, columns=['A', 'B'])"
   ],
   "metadata": {
    "collapsed": false,
    "ExecuteTime": {
     "start_time": "2023-05-17T08:16:26.633101Z",
     "end_time": "2023-05-17T08:16:26.723256Z"
    }
   }
  },
  {
   "cell_type": "code",
   "execution_count": 196,
   "outputs": [],
   "source": [
    "fig = px.bar(states_df, barmode='overlay')\n",
    "fig.update_layout(template='plotly_white', xaxis_title='day', yaxis_title='no. cars', legend_title='location')\n",
    "fig.show()"
   ],
   "metadata": {
    "collapsed": false,
    "ExecuteTime": {
     "start_time": "2023-05-17T08:16:26.725296Z",
     "end_time": "2023-05-17T08:16:27.115047Z"
    }
   }
  },
  {
   "cell_type": "code",
   "execution_count": 197,
   "outputs": [],
   "source": [
    "action_rew_df = pd.DataFrame(np.vstack([actions - mdp.max_transfer, rewards]).T, columns=['action', 'reward'])"
   ],
   "metadata": {
    "collapsed": false,
    "ExecuteTime": {
     "start_time": "2023-05-17T08:16:27.117046Z",
     "end_time": "2023-05-17T08:16:27.237017Z"
    }
   }
  },
  {
   "cell_type": "code",
   "execution_count": 198,
   "outputs": [],
   "source": [
    "fig = px.density_heatmap(action_rew_df, x=\"action\", y=\"reward\", nbinsx=mdp.max_transfer*4,\n",
    "                         range_x=[-mdp.max_transfer-.5, +mdp.max_transfer+.5])\n",
    "fig.update_layout(template='plotly_white', title=\"Histogram of Revenue vs Transfer\",\n",
    "                  yaxis_title='Revenue', xaxis_title=\"Transfer (1 -> 2)\")\n",
    "fig.show()"
   ],
   "metadata": {
    "collapsed": false,
    "ExecuteTime": {
     "start_time": "2023-05-17T08:16:27.240016Z",
     "end_time": "2023-05-17T08:16:27.550351Z"
    }
   }
  },
  {
   "cell_type": "code",
   "execution_count": 199,
   "outputs": [
    {
     "name": "stdout",
     "output_type": "stream",
     "text": [
      "42.4 ms ± 1.03 ms per loop (mean ± std. dev. of 7 runs, 10 loops each)\n",
      "8.81 ms ± 194 µs per loop (mean ± std. dev. of 7 runs, 100 loops each)\n",
      "450 µs ± 21.4 µs per loop (mean ± std. dev. of 7 runs, 1000 loops each)\n"
     ]
    }
   ],
   "source": [
    "mdp = JacksCarRental(max_poisson=30)\n",
    "%timeit mdp.step(mdp.action_space.sample())\n",
    "\n",
    "mdp = JacksCarRental(max_poisson=20)\n",
    "%timeit mdp.step(mdp.action_space.sample())\n",
    "\n",
    "mdp = JacksCarRental(max_poisson=10)\n",
    "%timeit mdp.step(mdp.action_space.sample())"
   ],
   "metadata": {
    "collapsed": false,
    "ExecuteTime": {
     "start_time": "2023-05-17T08:16:27.559572Z",
     "end_time": "2023-05-17T08:16:42.639354Z"
    }
   }
  },
  {
   "cell_type": "code",
   "execution_count": 222,
   "outputs": [
    {
     "name": "stderr",
     "output_type": "stream",
     "text": [
      "Convergence=100.0% : : 25it [00:49,  1.99s/it]\n"
     ]
    }
   ],
   "source": [
    "mdp = JacksCarRental(max_poisson=10)\n",
    "results = policy_iteration(mdp, save_history=True)\n",
    "value, policy, history = results"
   ],
   "metadata": {
    "collapsed": false,
    "ExecuteTime": {
     "start_time": "2023-05-17T08:30:27.319792Z",
     "end_time": "2023-05-17T08:31:17.182455Z"
    }
   }
  },
  {
   "cell_type": "code",
   "execution_count": 245,
   "outputs": [],
   "source": [
    "hist = [h.T - mdp.max_transfer for h in history['policy']]\n",
    "plot_animated_mesh(hist)"
   ],
   "metadata": {
    "collapsed": false,
    "ExecuteTime": {
     "start_time": "2023-05-17T08:55:17.105560Z",
     "end_time": "2023-05-17T08:55:17.205839Z"
    }
   }
  },
  {
   "cell_type": "code",
   "execution_count": 244,
   "outputs": [],
   "source": [
    "hist = [h.T - mdp.max_transfer for h in history['policy']]\n",
    "plot_animated_mesh(history['value'])"
   ],
   "metadata": {
    "collapsed": false,
    "ExecuteTime": {
     "start_time": "2023-05-17T08:54:39.914936Z",
     "end_time": "2023-05-17T08:54:40.352590Z"
    }
   }
  },
  {
   "cell_type": "code",
   "execution_count": null,
   "outputs": [],
   "source": [],
   "metadata": {
    "collapsed": false
   }
  }
 ],
 "metadata": {
  "kernelspec": {
   "display_name": "Python 3",
   "language": "python",
   "name": "python3"
  },
  "language_info": {
   "codemirror_mode": {
    "name": "ipython",
    "version": 2
   },
   "file_extension": ".py",
   "mimetype": "text/x-python",
   "name": "python",
   "nbconvert_exporter": "python",
   "pygments_lexer": "ipython2",
   "version": "2.7.6"
  }
 },
 "nbformat": 4,
 "nbformat_minor": 0
}
