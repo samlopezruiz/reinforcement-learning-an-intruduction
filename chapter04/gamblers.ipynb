{
 "cells": [
  {
   "cell_type": "code",
   "execution_count": 130,
   "outputs": [
    {
     "name": "stdout",
     "output_type": "stream",
     "text": [
      "The autoreload extension is already loaded. To reload it, use:\n",
      "  %reload_ext autoreload\n"
     ]
    }
   ],
   "source": [
    "%load_ext autoreload\n",
    "%autoreload 2\n",
    "import pandas as pd\n",
    "from gambler import GamblersProblem\n",
    "import numpy as np\n",
    "from mdp import value_iteration\n",
    "import plotly.express as px"
   ],
   "metadata": {
    "collapsed": false,
    "ExecuteTime": {
     "start_time": "2023-05-19T09:05:05.244586Z",
     "end_time": "2023-05-19T09:05:05.403880Z"
    }
   }
  },
  {
   "cell_type": "code",
   "execution_count": 107,
   "outputs": [],
   "source": [
    "mdp = GamblersProblem(p_win=0.5)\n",
    "mdp.reset()\n",
    "\n",
    "capitals = []\n",
    "done = False\n",
    "while not done:\n",
    "    bet = 5\n",
    "    capital, reward, done, info = mdp.step(bet)\n",
    "    capitals.append(capital[0])\n",
    "\n",
    "px.line(y=np.array(capitals), x=np.arange(len(capitals))).show()"
   ],
   "metadata": {
    "collapsed": false,
    "ExecuteTime": {
     "start_time": "2023-05-19T08:33:31.061369Z",
     "end_time": "2023-05-19T08:33:31.527939Z"
    }
   }
  },
  {
   "cell_type": "code",
   "execution_count": 119,
   "outputs": [
    {
     "name": "stderr",
     "output_type": "stream",
     "text": [
      "Convergence=100.0%: : 12it [00:07,  1.55it/s]\n"
     ]
    }
   ],
   "source": [
    "from chapter04.mdp import policy_iteration\n",
    "\n",
    "mdp = GamblersProblem(p_win=0.4)\n",
    "# value, policy, history = policy_iteration(mdp, save_history=True)\n",
    "value, policy, history = value_iteration(mdp, tolerance=1e-6, save_history=True)\n",
    "fig = px.bar(y=policy)\n",
    "fig.update_layout(template='plotly_white')\n",
    "fig.show()"
   ],
   "metadata": {
    "collapsed": false,
    "ExecuteTime": {
     "start_time": "2023-05-19T08:52:54.881670Z",
     "end_time": "2023-05-19T08:53:03.049598Z"
    }
   }
  },
  {
   "cell_type": "code",
   "execution_count": 105,
   "outputs": [],
   "source": [
    "fig = px.bar(y=value)\n",
    "fig.update_layout(template='plotly_white')\n",
    "fig.show()"
   ],
   "metadata": {
    "collapsed": false,
    "ExecuteTime": {
     "start_time": "2023-05-19T08:29:26.561230Z",
     "end_time": "2023-05-19T08:29:26.918023Z"
    }
   }
  },
  {
   "cell_type": "code",
   "execution_count": 132,
   "outputs": [
    {
     "name": "stderr",
     "output_type": "stream",
     "text": [
      "Convergence=100.0% (0.03): : 237it [03:44,  1.05it/s]\n"
     ]
    }
   ],
   "source": [
    "mdp = GamblersProblem(p_win=0.55)\n",
    "# value, policy = value_iteration(mdp)\n",
    "value, policy, history = value_iteration(mdp, tolerance=1e-3, save_history=True)\n",
    "fig = px.bar(y=policy)\n",
    "fig.update_layout(template='plotly_white')\n",
    "fig.show()"
   ],
   "metadata": {
    "collapsed": false,
    "ExecuteTime": {
     "start_time": "2023-05-19T09:06:07.505314Z",
     "end_time": "2023-05-19T09:09:52.790588Z"
    }
   }
  }
 ],
 "metadata": {
  "kernelspec": {
   "display_name": "Python 3",
   "language": "python",
   "name": "python3"
  },
  "language_info": {
   "codemirror_mode": {
    "name": "ipython",
    "version": 2
   },
   "file_extension": ".py",
   "mimetype": "text/x-python",
   "name": "python",
   "nbconvert_exporter": "python",
   "pygments_lexer": "ipython2",
   "version": "2.7.6"
  }
 },
 "nbformat": 4,
 "nbformat_minor": 0
}
